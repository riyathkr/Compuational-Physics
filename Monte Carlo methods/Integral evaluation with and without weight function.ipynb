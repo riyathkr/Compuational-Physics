{
 "cells": [
  {
   "cell_type": "code",
   "execution_count": 1,
   "metadata": {},
   "outputs": [],
   "source": [
    "import numpy as np\n",
    "import matplotlib.pyplot as plt\n",
    "import math\n",
    "import random"
   ]
  },
  {
   "cell_type": "code",
   "execution_count": 2,
   "metadata": {},
   "outputs": [],
   "source": [
    "import pandas as pd"
   ]
  },
  {
   "cell_type": "markdown",
   "metadata": {},
   "source": [
    "# Evaluating the integral without using weight function"
   ]
  },
  {
   "cell_type": "markdown",
   "metadata": {},
   "source": [
    "## -> inputs(nsamples) returns an array of length nsamples using random sampling from a uniform distribution between 0 and 1"
   ]
  },
  {
   "cell_type": "code",
   "execution_count": 3,
   "metadata": {},
   "outputs": [],
   "source": [
    "def function(x):\n",
    "    return(1/(1+x**2))\n",
    "def inputs(nsamples):\n",
    "    x=[]\n",
    "    for i in range(nsamples):\n",
    "        x.append(np.random.uniform(0,1))\n",
    "    return(x)\n",
    "    "
   ]
  },
  {
   "cell_type": "markdown",
   "metadata": {},
   "source": [
    "## crude_mc is the monte carlo function to find integral value given input number of sample points to be taken"
   ]
  },
  {
   "cell_type": "code",
   "execution_count": 4,
   "metadata": {},
   "outputs": [],
   "source": [
    "def crude_mc(nsamples):\n",
    "    x=inputs(nsamples)\n",
    "    sumval=0\n",
    "    for i in range(nsamples):\n",
    "        sumval+=function(x[i])\n",
    "    return(sumval/nsamples)\n",
    "        "
   ]
  },
  {
   "cell_type": "code",
   "execution_count": 5,
   "metadata": {},
   "outputs": [
    {
     "data": {
      "text/plain": [
       "0.8254982117318841"
      ]
     },
     "execution_count": 5,
     "metadata": {},
     "output_type": "execute_result"
    }
   ],
   "source": [
    "crude_mc(10)"
   ]
  },
  {
   "cell_type": "code",
   "execution_count": 6,
   "metadata": {},
   "outputs": [
    {
     "data": {
      "text/plain": [
       "0.7765310655254598"
      ]
     },
     "execution_count": 6,
     "metadata": {},
     "output_type": "execute_result"
    }
   ],
   "source": [
    "crude_mc(1000)"
   ]
  },
  {
   "cell_type": "code",
   "execution_count": 7,
   "metadata": {},
   "outputs": [],
   "source": [
    "def sigma_i(nsamples):\n",
    "    squareval=0\n",
    "    x=inputs(nsamples)\n",
    "    for i in range(nsamples):\n",
    "        squareval+=function(x[i])**2\n",
    "    avgsqval=squareval/nsamples\n",
    "    \n",
    "    ## square of avg\n",
    "    \n",
    "    sqofavg=crude_mc(nsamples)**2\n",
    "    \n",
    "    return(abs(((avgsqval-sqofavg)/nsamples)**0.5))"
   ]
  },
  {
   "cell_type": "code",
   "execution_count": 8,
   "metadata": {},
   "outputs": [],
   "source": [
    "N=[i for i in range(10,10000,500)]\n",
    "sigma_crude=[]\n",
    "integral_crude=[]\n"
   ]
  },
  {
   "cell_type": "code",
   "execution_count": 9,
   "metadata": {},
   "outputs": [],
   "source": [
    "for i in range(len(N)):\n",
    "    integral_crude.append(crude_mc(N[i]))\n",
    "    sigma_crude.append(sigma_i(N[i]))"
   ]
  },
  {
   "cell_type": "code",
   "execution_count": 10,
   "metadata": {},
   "outputs": [],
   "source": [
    "data=pd.DataFrame()\n",
    "data[\"N\"]=N\n",
    "data[\"crude_integral\"]=integral_crude\n",
    "data[\"crude_sigma\"]=sigma_crude"
   ]
  },
  {
   "cell_type": "code",
   "execution_count": 11,
   "metadata": {},
   "outputs": [
    {
     "data": {
      "text/html": [
       "<div>\n",
       "<style scoped>\n",
       "    .dataframe tbody tr th:only-of-type {\n",
       "        vertical-align: middle;\n",
       "    }\n",
       "\n",
       "    .dataframe tbody tr th {\n",
       "        vertical-align: top;\n",
       "    }\n",
       "\n",
       "    .dataframe thead th {\n",
       "        text-align: right;\n",
       "    }\n",
       "</style>\n",
       "<table border=\"1\" class=\"dataframe\">\n",
       "  <thead>\n",
       "    <tr style=\"text-align: right;\">\n",
       "      <th></th>\n",
       "      <th>N</th>\n",
       "      <th>crude_integral</th>\n",
       "      <th>crude_sigma</th>\n",
       "    </tr>\n",
       "  </thead>\n",
       "  <tbody>\n",
       "    <tr>\n",
       "      <th>0</th>\n",
       "      <td>10</td>\n",
       "      <td>0.777553</td>\n",
       "      <td>0.074935</td>\n",
       "    </tr>\n",
       "    <tr>\n",
       "      <th>1</th>\n",
       "      <td>510</td>\n",
       "      <td>0.784049</td>\n",
       "      <td>0.010134</td>\n",
       "    </tr>\n",
       "    <tr>\n",
       "      <th>2</th>\n",
       "      <td>1010</td>\n",
       "      <td>0.785640</td>\n",
       "      <td>0.004231</td>\n",
       "    </tr>\n",
       "    <tr>\n",
       "      <th>3</th>\n",
       "      <td>1510</td>\n",
       "      <td>0.789741</td>\n",
       "      <td>0.005006</td>\n",
       "    </tr>\n",
       "    <tr>\n",
       "      <th>4</th>\n",
       "      <td>2010</td>\n",
       "      <td>0.788021</td>\n",
       "      <td>0.004263</td>\n",
       "    </tr>\n",
       "    <tr>\n",
       "      <th>5</th>\n",
       "      <td>2510</td>\n",
       "      <td>0.784397</td>\n",
       "      <td>0.002336</td>\n",
       "    </tr>\n",
       "    <tr>\n",
       "      <th>6</th>\n",
       "      <td>3010</td>\n",
       "      <td>0.782474</td>\n",
       "      <td>0.003346</td>\n",
       "    </tr>\n",
       "    <tr>\n",
       "      <th>7</th>\n",
       "      <td>3510</td>\n",
       "      <td>0.781922</td>\n",
       "      <td>0.003012</td>\n",
       "    </tr>\n",
       "    <tr>\n",
       "      <th>8</th>\n",
       "      <td>4010</td>\n",
       "      <td>0.784187</td>\n",
       "      <td>0.001977</td>\n",
       "    </tr>\n",
       "    <tr>\n",
       "      <th>9</th>\n",
       "      <td>4510</td>\n",
       "      <td>0.787775</td>\n",
       "      <td>0.002553</td>\n",
       "    </tr>\n",
       "    <tr>\n",
       "      <th>10</th>\n",
       "      <td>5010</td>\n",
       "      <td>0.786835</td>\n",
       "      <td>0.001908</td>\n",
       "    </tr>\n",
       "    <tr>\n",
       "      <th>11</th>\n",
       "      <td>5510</td>\n",
       "      <td>0.784778</td>\n",
       "      <td>0.001946</td>\n",
       "    </tr>\n",
       "    <tr>\n",
       "      <th>12</th>\n",
       "      <td>6010</td>\n",
       "      <td>0.785179</td>\n",
       "      <td>0.002238</td>\n",
       "    </tr>\n",
       "    <tr>\n",
       "      <th>13</th>\n",
       "      <td>6510</td>\n",
       "      <td>0.788166</td>\n",
       "      <td>0.002070</td>\n",
       "    </tr>\n",
       "    <tr>\n",
       "      <th>14</th>\n",
       "      <td>7010</td>\n",
       "      <td>0.787849</td>\n",
       "      <td>0.001747</td>\n",
       "    </tr>\n",
       "    <tr>\n",
       "      <th>15</th>\n",
       "      <td>7510</td>\n",
       "      <td>0.785737</td>\n",
       "      <td>0.001793</td>\n",
       "    </tr>\n",
       "    <tr>\n",
       "      <th>16</th>\n",
       "      <td>8010</td>\n",
       "      <td>0.784617</td>\n",
       "      <td>0.001687</td>\n",
       "    </tr>\n",
       "    <tr>\n",
       "      <th>17</th>\n",
       "      <td>8510</td>\n",
       "      <td>0.788661</td>\n",
       "      <td>0.001589</td>\n",
       "    </tr>\n",
       "    <tr>\n",
       "      <th>18</th>\n",
       "      <td>9010</td>\n",
       "      <td>0.784750</td>\n",
       "      <td>0.001694</td>\n",
       "    </tr>\n",
       "    <tr>\n",
       "      <th>19</th>\n",
       "      <td>9510</td>\n",
       "      <td>0.785229</td>\n",
       "      <td>0.001628</td>\n",
       "    </tr>\n",
       "  </tbody>\n",
       "</table>\n",
       "</div>"
      ],
      "text/plain": [
       "       N  crude_integral  crude_sigma\n",
       "0     10        0.777553     0.074935\n",
       "1    510        0.784049     0.010134\n",
       "2   1010        0.785640     0.004231\n",
       "3   1510        0.789741     0.005006\n",
       "4   2010        0.788021     0.004263\n",
       "5   2510        0.784397     0.002336\n",
       "6   3010        0.782474     0.003346\n",
       "7   3510        0.781922     0.003012\n",
       "8   4010        0.784187     0.001977\n",
       "9   4510        0.787775     0.002553\n",
       "10  5010        0.786835     0.001908\n",
       "11  5510        0.784778     0.001946\n",
       "12  6010        0.785179     0.002238\n",
       "13  6510        0.788166     0.002070\n",
       "14  7010        0.787849     0.001747\n",
       "15  7510        0.785737     0.001793\n",
       "16  8010        0.784617     0.001687\n",
       "17  8510        0.788661     0.001589\n",
       "18  9010        0.784750     0.001694\n",
       "19  9510        0.785229     0.001628"
      ]
     },
     "execution_count": 11,
     "metadata": {},
     "output_type": "execute_result"
    }
   ],
   "source": [
    "data"
   ]
  },
  {
   "cell_type": "markdown",
   "metadata": {},
   "source": [
    "# Evaluating the integral using a weight function"
   ]
  },
  {
   "cell_type": "code",
   "execution_count": 12,
   "metadata": {},
   "outputs": [],
   "source": [
    "def weight_function(x):\n",
    "    return ((4-2*x)/3)"
   ]
  },
  {
   "cell_type": "code",
   "execution_count": 13,
   "metadata": {},
   "outputs": [],
   "source": [
    "def xasfunctionofy(y):\n",
    "    return(float(2-math.sqrt(4-3*y)))"
   ]
  },
  {
   "cell_type": "code",
   "execution_count": 14,
   "metadata": {},
   "outputs": [],
   "source": [
    "def weighted_mc(nsamples):\n",
    "    y=inputs(nsamples)\n",
    "    x=list(map(xasfunctionofy,y))\n",
    "    sumval=0\n",
    "    for i in range(nsamples):\n",
    "        sumval+=float(function(x[i])/weight_function(x[i]))\n",
    "    return(sumval/nsamples)"
   ]
  },
  {
   "cell_type": "code",
   "execution_count": 15,
   "metadata": {},
   "outputs": [
    {
     "data": {
      "text/plain": [
       "0.785590382293762"
      ]
     },
     "execution_count": 15,
     "metadata": {},
     "output_type": "execute_result"
    }
   ],
   "source": [
    "weighted_mc(1000)"
   ]
  },
  {
   "cell_type": "code",
   "execution_count": 16,
   "metadata": {},
   "outputs": [],
   "source": [
    "def weighted_sigma(nsamples):\n",
    "    squareval=0\n",
    "    y=inputs(nsamples)\n",
    "    x=list(map(xasfunctionofy,y))\n",
    "    for i in range(nsamples):\n",
    "        squareval+=(function(x[i])/weight_function(x[i]))**2\n",
    "    avgsqval=squareval/nsamples\n",
    "    \n",
    "    ## square of avg\n",
    "    \n",
    "    sqofavg=weighted_mc(nsamples)**2\n",
    "    \n",
    "    return(abs(((avgsqval-sqofavg)/nsamples)**0.5))\n",
    "    "
   ]
  },
  {
   "cell_type": "code",
   "execution_count": 17,
   "metadata": {},
   "outputs": [],
   "source": [
    "integral_weighted=[]\n",
    "sigma_weighted=[]\n",
    "\n",
    "for i in range(len(N)):\n",
    "    integral_weighted.append(weighted_mc(N[i]))\n",
    "    sigma_weighted.append(weighted_sigma(N[i]))"
   ]
  },
  {
   "cell_type": "code",
   "execution_count": 18,
   "metadata": {},
   "outputs": [],
   "source": [
    "data[\"weighted_integral\"]=integral_weighted\n",
    "data[\"weighted_sigma\"]=sigma_weighted"
   ]
  },
  {
   "cell_type": "markdown",
   "metadata": {},
   "source": [
    "## Reproducing the table as given in class"
   ]
  },
  {
   "cell_type": "code",
   "execution_count": 19,
   "metadata": {},
   "outputs": [
    {
     "data": {
      "text/html": [
       "<div>\n",
       "<style scoped>\n",
       "    .dataframe tbody tr th:only-of-type {\n",
       "        vertical-align: middle;\n",
       "    }\n",
       "\n",
       "    .dataframe tbody tr th {\n",
       "        vertical-align: top;\n",
       "    }\n",
       "\n",
       "    .dataframe thead th {\n",
       "        text-align: right;\n",
       "    }\n",
       "</style>\n",
       "<table border=\"1\" class=\"dataframe\">\n",
       "  <thead>\n",
       "    <tr style=\"text-align: right;\">\n",
       "      <th></th>\n",
       "      <th>N</th>\n",
       "      <th>crude_integral</th>\n",
       "      <th>crude_sigma</th>\n",
       "      <th>weighted_integral</th>\n",
       "      <th>weighted_sigma</th>\n",
       "    </tr>\n",
       "  </thead>\n",
       "  <tbody>\n",
       "    <tr>\n",
       "      <th>0</th>\n",
       "      <td>10</td>\n",
       "      <td>0.777553</td>\n",
       "      <td>0.074935</td>\n",
       "      <td>0.780348</td>\n",
       "      <td>0.036821</td>\n",
       "    </tr>\n",
       "    <tr>\n",
       "      <th>1</th>\n",
       "      <td>510</td>\n",
       "      <td>0.784049</td>\n",
       "      <td>0.010134</td>\n",
       "      <td>0.785688</td>\n",
       "      <td>0.001995</td>\n",
       "    </tr>\n",
       "    <tr>\n",
       "      <th>2</th>\n",
       "      <td>1010</td>\n",
       "      <td>0.785640</td>\n",
       "      <td>0.004231</td>\n",
       "      <td>0.785625</td>\n",
       "      <td>0.001626</td>\n",
       "    </tr>\n",
       "    <tr>\n",
       "      <th>3</th>\n",
       "      <td>1510</td>\n",
       "      <td>0.789741</td>\n",
       "      <td>0.005006</td>\n",
       "      <td>0.785121</td>\n",
       "      <td>0.001191</td>\n",
       "    </tr>\n",
       "    <tr>\n",
       "      <th>4</th>\n",
       "      <td>2010</td>\n",
       "      <td>0.788021</td>\n",
       "      <td>0.004263</td>\n",
       "      <td>0.785487</td>\n",
       "      <td>0.000470</td>\n",
       "    </tr>\n",
       "    <tr>\n",
       "      <th>5</th>\n",
       "      <td>2510</td>\n",
       "      <td>0.784397</td>\n",
       "      <td>0.002336</td>\n",
       "      <td>0.785065</td>\n",
       "      <td>0.000787</td>\n",
       "    </tr>\n",
       "    <tr>\n",
       "      <th>6</th>\n",
       "      <td>3010</td>\n",
       "      <td>0.782474</td>\n",
       "      <td>0.003346</td>\n",
       "      <td>0.785422</td>\n",
       "      <td>0.000349</td>\n",
       "    </tr>\n",
       "    <tr>\n",
       "      <th>7</th>\n",
       "      <td>3510</td>\n",
       "      <td>0.781922</td>\n",
       "      <td>0.003012</td>\n",
       "      <td>0.785358</td>\n",
       "      <td>0.000413</td>\n",
       "    </tr>\n",
       "    <tr>\n",
       "      <th>8</th>\n",
       "      <td>4010</td>\n",
       "      <td>0.784187</td>\n",
       "      <td>0.001977</td>\n",
       "      <td>0.785716</td>\n",
       "      <td>0.000374</td>\n",
       "    </tr>\n",
       "    <tr>\n",
       "      <th>9</th>\n",
       "      <td>4510</td>\n",
       "      <td>0.787775</td>\n",
       "      <td>0.002553</td>\n",
       "      <td>0.784828</td>\n",
       "      <td>0.000335</td>\n",
       "    </tr>\n",
       "    <tr>\n",
       "      <th>10</th>\n",
       "      <td>5010</td>\n",
       "      <td>0.786835</td>\n",
       "      <td>0.001908</td>\n",
       "      <td>0.785592</td>\n",
       "      <td>0.000291</td>\n",
       "    </tr>\n",
       "    <tr>\n",
       "      <th>11</th>\n",
       "      <td>5510</td>\n",
       "      <td>0.784778</td>\n",
       "      <td>0.001946</td>\n",
       "      <td>0.785698</td>\n",
       "      <td>0.000467</td>\n",
       "    </tr>\n",
       "    <tr>\n",
       "      <th>12</th>\n",
       "      <td>6010</td>\n",
       "      <td>0.785179</td>\n",
       "      <td>0.002238</td>\n",
       "      <td>0.785507</td>\n",
       "      <td>0.000418</td>\n",
       "    </tr>\n",
       "    <tr>\n",
       "      <th>13</th>\n",
       "      <td>6510</td>\n",
       "      <td>0.788166</td>\n",
       "      <td>0.002070</td>\n",
       "      <td>0.785256</td>\n",
       "      <td>0.000221</td>\n",
       "    </tr>\n",
       "    <tr>\n",
       "      <th>14</th>\n",
       "      <td>7010</td>\n",
       "      <td>0.787849</td>\n",
       "      <td>0.001747</td>\n",
       "      <td>0.785503</td>\n",
       "      <td>0.000188</td>\n",
       "    </tr>\n",
       "    <tr>\n",
       "      <th>15</th>\n",
       "      <td>7510</td>\n",
       "      <td>0.785737</td>\n",
       "      <td>0.001793</td>\n",
       "      <td>0.785226</td>\n",
       "      <td>0.000291</td>\n",
       "    </tr>\n",
       "    <tr>\n",
       "      <th>16</th>\n",
       "      <td>8010</td>\n",
       "      <td>0.784617</td>\n",
       "      <td>0.001687</td>\n",
       "      <td>0.785471</td>\n",
       "      <td>0.000481</td>\n",
       "    </tr>\n",
       "    <tr>\n",
       "      <th>17</th>\n",
       "      <td>8510</td>\n",
       "      <td>0.788661</td>\n",
       "      <td>0.001589</td>\n",
       "      <td>0.785374</td>\n",
       "      <td>0.000363</td>\n",
       "    </tr>\n",
       "    <tr>\n",
       "      <th>18</th>\n",
       "      <td>9010</td>\n",
       "      <td>0.784750</td>\n",
       "      <td>0.001694</td>\n",
       "      <td>0.785840</td>\n",
       "      <td>0.000203</td>\n",
       "    </tr>\n",
       "    <tr>\n",
       "      <th>19</th>\n",
       "      <td>9510</td>\n",
       "      <td>0.785229</td>\n",
       "      <td>0.001628</td>\n",
       "      <td>0.785365</td>\n",
       "      <td>0.000337</td>\n",
       "    </tr>\n",
       "  </tbody>\n",
       "</table>\n",
       "</div>"
      ],
      "text/plain": [
       "       N  crude_integral  crude_sigma  weighted_integral  weighted_sigma\n",
       "0     10        0.777553     0.074935           0.780348        0.036821\n",
       "1    510        0.784049     0.010134           0.785688        0.001995\n",
       "2   1010        0.785640     0.004231           0.785625        0.001626\n",
       "3   1510        0.789741     0.005006           0.785121        0.001191\n",
       "4   2010        0.788021     0.004263           0.785487        0.000470\n",
       "5   2510        0.784397     0.002336           0.785065        0.000787\n",
       "6   3010        0.782474     0.003346           0.785422        0.000349\n",
       "7   3510        0.781922     0.003012           0.785358        0.000413\n",
       "8   4010        0.784187     0.001977           0.785716        0.000374\n",
       "9   4510        0.787775     0.002553           0.784828        0.000335\n",
       "10  5010        0.786835     0.001908           0.785592        0.000291\n",
       "11  5510        0.784778     0.001946           0.785698        0.000467\n",
       "12  6010        0.785179     0.002238           0.785507        0.000418\n",
       "13  6510        0.788166     0.002070           0.785256        0.000221\n",
       "14  7010        0.787849     0.001747           0.785503        0.000188\n",
       "15  7510        0.785737     0.001793           0.785226        0.000291\n",
       "16  8010        0.784617     0.001687           0.785471        0.000481\n",
       "17  8510        0.788661     0.001589           0.785374        0.000363\n",
       "18  9010        0.784750     0.001694           0.785840        0.000203\n",
       "19  9510        0.785229     0.001628           0.785365        0.000337"
      ]
     },
     "execution_count": 19,
     "metadata": {},
     "output_type": "execute_result"
    }
   ],
   "source": [
    "data"
   ]
  },
  {
   "cell_type": "markdown",
   "metadata": {},
   "source": [
    "## Plot of sigma vs N\n",
    "\n",
    "The unweighted sigma value is initially large compared to the weighted sigma value, but eventually both diminish to zero for large N"
   ]
  },
  {
   "cell_type": "code",
   "execution_count": 23,
   "metadata": {},
   "outputs": [
    {
     "data": {
      "image/png": "[encoded data removed]",
      "text/plain": [
       "<Figure size 432x288 with 1 Axes>"
      ]
     },
     "metadata": {
      "needs_background": "light"
     },
     "output_type": "display_data"
    }
   ],
   "source": [
    "plt.figure(1)\n",
    "plt.plot(N,sigma_crude,label=\"crude_sigma\")\n",
    "plt.plot(N,sigma_weighted,label=\"weighted_sigma\")\n",
    "plt.title(\"Sigma vs N\")\n",
    "plt.legend(loc=\"upper right\")\n",
    "plt.xlabel('N')\n",
    "plt.ylabel(\"Sigma\")\n",
    "plt.grid()\n",
    "plt.show()\n"
   ]
  },
  {
   "cell_type": "markdown",
   "metadata": {},
   "source": [
    "## Plot of integral value vs N\n",
    "The unweighted integral values show a large variance around the pi/4 value, however, the variance is very low for weigted integral values"
   ]
  },
  {
   "cell_type": "code",
   "execution_count": 28,
   "metadata": {},
   "outputs": [
    {
     "data": {
      "image/png": "[encoded data removed]",
      "text/plain": [
       "<Figure size 432x288 with 1 Axes>"
      ]
     },
     "metadata": {
      "needs_background": "light"
     },
     "output_type": "display_data"
    }
   ],
   "source": [
    "plt.figure(2)\n",
    "plt.plot(N,integral_crude,label=\"crude_integral\")\n",
    "plt.plot(N,integral_weighted,label=\"weighted_integral\")\n",
    "plt.plot(N,[math.pi/4 for i in range(len(N))],label=\"Actual integral value Pi/4\")\n",
    "plt.title(\"Monte carlo integral value vs N\")\n",
    "plt.xlabel(\"N\")\n",
    "plt.ylabel(\"Integral value\")\n",
    "plt.legend(loc=\"upper right\")\n",
    "plt.grid()\n",
    "plt.show()"
   ]
  },
  {
   "cell_type": "code",
   "execution_count": null,
   "metadata": {},
   "outputs": [],
   "source": []
  }
 ],
 "metadata": {
  "kernelspec": {
   "display_name": "Python 3",
   "language": "python",
   "name": "python3"
  },
  "language_info": {
   "codemirror_mode": {
    "name": "ipython",
    "version": 3
   },
   "file_extension": ".py",
   "mimetype": "text/x-python",
   "name": "python",
   "nbconvert_exporter": "python",
   "pygments_lexer": "ipython3",
   "version": "3.7.6"
  }
 },
 "nbformat": 4,
 "nbformat_minor": 4
}
